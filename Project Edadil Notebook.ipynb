{
 "cells": [
  {
   "cell_type": "markdown",
   "id": "4d62d7e0",
   "metadata": {},
   "source": [
    "# Project EDADIL\n",
    "\n",
    "## development notebook\n",
    "\n",
    "This is a training pet project to practice Data Engeneering skills and some personal use. The idea is to get info from edadeal.ru (by parsing it) on daily bases to decide if there are any commodities on sale worth bying..."
   ]
  },
  {
   "cell_type": "markdown",
   "id": "c98953c4",
   "metadata": {},
   "source": [
    "### ETL schema\n",
    "\n",
    "Extract - from edadeal.ru - by parsing\n",
    "\n",
    "Transform - make it as much unified as possible to load it to the DB (probably) PostgreSQL\n",
    "\n",
    "Load - to PostgreSQL DB.\n",
    "\n",
    "### Other plans\n",
    "telegram bot\n",
    "\n",
    "to store images"
   ]
  },
  {
   "cell_type": "markdown",
   "id": "cec6604b",
   "metadata": {},
   "source": [
    "#### Import"
   ]
  },
  {
   "cell_type": "code",
   "execution_count": 1,
   "id": "a2ee7bfd",
   "metadata": {},
   "outputs": [],
   "source": [
    "from datetime import datetime\n",
    "import time\n",
    "from selenium import webdriver\n",
    "from selenium.webdriver.chrome.service import Service as ChromeService\n",
    "from selenium.webdriver.common.by import By\n",
    "import bs4 as bs\n",
    "import pandas as pd"
   ]
  },
  {
   "cell_type": "markdown",
   "id": "e0b2d50d",
   "metadata": {},
   "source": [
    "#### Variables"
   ]
  },
  {
   "cell_type": "code",
   "execution_count": 2,
   "id": "1f99151e",
   "metadata": {},
   "outputs": [],
   "source": [
    "fp_url = \"https://edadeal.ru/podolsk/offers?page=1\"\n",
    "driver_path = \"D:\\\\miniconda\\\\edadilproject\\\\Needed items\\\\chromedriver\"\n",
    "html_path = \"D:\\\\miniconda\\\\edadilproject\\\\Data\\\\raw_html_\"\n",
    "log_path = \"D:\\\\miniconda\\\\edadilproject\\\\Data\\\\log_\"\n",
    "table_path = \"D:\\\\miniconda\\\\edadilproject\\\\Data\\\\table_\"\n",
    "\n",
    "page_iterator = 1\n",
    "columns_descr = [\"badge\", \"dates\", \"retailer\", \"description\", \"quantity\", \"price_old\", \"price_new\"]"
   ]
  },
  {
   "cell_type": "markdown",
   "id": "11dc5e07",
   "metadata": {},
   "source": [
    "#### Extract functions"
   ]
  },
  {
   "cell_type": "code",
   "execution_count": 3,
   "id": "3defb3d2",
   "metadata": {},
   "outputs": [],
   "source": [
    "def get_timestamp():\n",
    "    timestamp = datetime.now()\n",
    "    timestamp = timestamp.strftime(\"%Y.%m.%d %H-%M-%S\")\n",
    "    return timestamp"
   ]
  },
  {
   "cell_type": "code",
   "execution_count": 4,
   "id": "48786ac0",
   "metadata": {},
   "outputs": [],
   "source": [
    "def go_to_page(driver, url):\n",
    "    if url != None:\n",
    "        driver.get(url)\n",
    "    else:\n",
    "        try:\n",
    "            next_button = driver.find_element(By.LINK_TEXT, \"Вперед →\")\n",
    "        except NoSuchElementException as err:\n",
    "            return False\n",
    "        else:\n",
    "            next_button.click()\n",
    "            \n",
    "    # alcohol visibility\n",
    "            \n",
    "    driver.implicitly_wait(5)\n",
    "    time.sleep(5)\n",
    "    return True"
   ]
  },
  {
   "cell_type": "code",
   "execution_count": 5,
   "id": "86616bd6",
   "metadata": {},
   "outputs": [],
   "source": [
    "def get_html(driver):\n",
    "    body = driver.find_element(By.TAG_NAME, \"body\")\n",
    "    html = body.get_attribute(\"innerHTML\")\n",
    "    return html"
   ]
  },
  {
   "cell_type": "code",
   "execution_count": 6,
   "id": "eb9b8ddd",
   "metadata": {},
   "outputs": [],
   "source": [
    "def save_html(html, path):\n",
    "    with open(path, \"a\", encoding=\"utf-8\") as file:\n",
    "        file.write(html + \"\\n\" + \"\\n\")"
   ]
  },
  {
   "cell_type": "code",
   "execution_count": 7,
   "id": "5e31bb0c",
   "metadata": {},
   "outputs": [],
   "source": [
    "def log(text, path):\n",
    "    log_line = \"\\n\" + get_timestamp() + \" \" + text\n",
    "    with open(path, \"a\") as file:\n",
    "        file.write(log_line)"
   ]
  },
  {
   "cell_type": "code",
   "execution_count": 8,
   "id": "36894d95",
   "metadata": {},
   "outputs": [],
   "source": [
    "def extract(driver, url, html_path, log_path, page_iterator):\n",
    "    log(\"Extracting page: \" + str(page_iterator), log_path)\n",
    "    if page_iterator != 1:\n",
    "        url = None\n",
    "    result = go_to_page(driver, url)\n",
    "    if result:\n",
    "        html = get_html(driver)\n",
    "        save_html(html, html_path)\n",
    "        log(\"Extracting finished\", log_path)\n",
    "        return html, True\n",
    "    else:\n",
    "        log(\"Previous page was the last one.\", log_path)\n",
    "        return None, False\n"
   ]
  },
  {
   "cell_type": "markdown",
   "id": "29baad18",
   "metadata": {},
   "source": [
    "#### Transform functions"
   ]
  },
  {
   "cell_type": "code",
   "execution_count": 25,
   "id": "94048815",
   "metadata": {},
   "outputs": [],
   "source": [
    "def get_contents(item, class_name):\n",
    "    elements_list = item.select(\".\" + class_name)\n",
    "    if len(elements_list) > 0:\n",
    "        text_list = elements_list[0].contents\n",
    "        if len(text_list) > 0:\n",
    "            text = text_list[0]\n",
    "        return text"
   ]
  },
  {
   "cell_type": "code",
   "execution_count": 10,
   "id": "90852288",
   "metadata": {},
   "outputs": [],
   "source": [
    "def read_offer(offer):\n",
    "    badge = get_contents(offer, \"b-offer__badge\")\n",
    "    dates = get_contents(offer, \"b-offer__dates\")\n",
    "    class_search_text = \"b-image b-image_disabled_false b-image_cap_f b-image_img_vert b-image_loaded_true b-offer__retailer-icon\"\n",
    "    retailer = offer.find_all(\"div\", class_ = class_search_text)[0]['title']\n",
    "    description = get_contents(offer, \"b-offer__description\")\n",
    "    quantity_tag = offer.find_all(\"div\", class_ = \"b-offer__quantity\")\n",
    "    if len(quantity_tag) > 0:\n",
    "        quantity = quantity_tag[0].contents[1]\n",
    "    else:\n",
    "        quantity = \"\"\n",
    "    price_old = get_contents(offer, \"b-offer__price-new\")\n",
    "    price_new = get_contents(offer, \"b-offer__price-old\")\n",
    "    data_dict = {\"badge\":[badge], \"dates\":[dates], \"retailer\":[retailer], \"description\":[description], \\\n",
    "                 \"quantity\":[quantity], \"price_old\":[price_old], \"price_new\":[price_new]}\n",
    "    df_offer = pd.DataFrame.from_dict(data_dict)\n",
    "    return df_offer"
   ]
  },
  {
   "cell_type": "code",
   "execution_count": 11,
   "id": "1c6bdef1",
   "metadata": {},
   "outputs": [],
   "source": [
    "def transform(html, table_path, df):\n",
    "    soup = bs.BeautifulSoup(html, \"html.parser\")\n",
    "    offer_list = soup.find_all(\"a\", \"p-offers__offer\")\n",
    "    for offer in offer_list:\n",
    "        df_offer = read_offer(offer)\n",
    "        pd.concat([df, df_offer], ignore_index=True)\n",
    "    return df "
   ]
  },
  {
   "cell_type": "markdown",
   "id": "7f2cf219",
   "metadata": {},
   "source": [
    "#### Preparation\n"
   ]
  },
  {
   "cell_type": "code",
   "execution_count": 12,
   "id": "c8f45c43",
   "metadata": {},
   "outputs": [],
   "source": [
    "options = webdriver.ChromeOptions()\n",
    "options.add_experimental_option(\"excludeSwitches\", [\"enable-automation\"])\n",
    "options.add_experimental_option(\"useAutomationExtension\", False)\n",
    "service = ChromeService(executable_path=driver_path)\n",
    "driver = webdriver.Chrome(service=service, options=options)\n",
    "\n",
    "timestamp = get_timestamp()\n",
    "log_path = log_path + timestamp + \".txt\"\n",
    "html_path = html_path + timestamp + \".txt\"\n",
    "table_path = table_path + timestamp + \".xlsx\"\n",
    "\n",
    "df = pd.DataFrame(columns=columns_descr)"
   ]
  },
  {
   "cell_type": "markdown",
   "id": "07aa83bc",
   "metadata": {},
   "source": [
    "#### ETL"
   ]
  },
  {
   "cell_type": "code",
   "execution_count": 13,
   "id": "6ced23e7",
   "metadata": {
    "scrolled": true
   },
   "outputs": [],
   "source": [
    "log(\"ETL process started\", log_path)\n",
    "result = True\n",
    "while result and page_iterator < 3:\n",
    "    html, result = extract(driver, fp_url, html_path, log_path, page_iterator)\n",
    "   #transform(html, table_path)\n",
    "    page_iterator += 1\n",
    "log(\"ETL process finished\", log_path)\n",
    "driver.close()"
   ]
  },
  {
   "cell_type": "code",
   "execution_count": 88,
   "id": "9b0e4189",
   "metadata": {},
   "outputs": [
    {
     "name": "stdout",
     "output_type": "stream",
     "text": [
      "    badge          dates          retailer  \\\n",
      "0    -10%  По 20 апреля   Eurospar express   \n",
      "1  Онлайн  По 20 апреля            М.Видео   \n",
      "2    -44%  По 30 апреля           ВкусВилл   \n",
      "3    -23%  По 23 апреля        Перекрёсток   \n",
      "4  Онлайн    По 16 июля           Любимчик   \n",
      "\n",
      "                                         description                 quantity  \\\n",
      "0                                Ананас Медовый 1 Кг    1 кг / 299,90 ₽ за кг   \n",
      "1             БЗУ Rombica NEO Deskstation (NQ-00910)                            \n",
      "2   Сорбет Баскин Роббинс Клюквенно-малиновый 500 мл   500 мл / 678,00 ₽ за л   \n",
      "3  Смесь КОМПОТ БЕЗ ХЛОПОТ для приготовления комп...     4 шт / 24,98 ₽ за шт   \n",
      "4  Perfect Fit влажный корм для котят от 1 до 12 ...    75 г / 400,00 ₽ за кг   \n",
      "\n",
      "    price_old   price_new  \n",
      "0    299,90 ₽    329,90 ₽  \n",
      "1  3 999,00 ₽  4 999,00 ₽  \n",
      "2    339,00 ₽    599,00 ₽  \n",
      "3     99,90 ₽    129,00 ₽  \n",
      "4     30,00 ₽     31,00 ₽  \n"
     ]
    }
   ],
   "source": [
    "#def transform(html, table_path):\n",
    "df = pd.DataFrame(columns=columns_descr)\n",
    "soup = bs.BeautifulSoup(html, \"html.parser\")\n",
    "offer_list = soup.find_all(\"a\", \"p-offers__offer\")\n",
    "for offer in offer_list:\n",
    "    df_offer = read_offer(offer)\n",
    "    df = pd.concat([df, df_offer], ignore_index=True)\n",
    "print(df.head())"
   ]
  },
  {
   "cell_type": "code",
   "execution_count": null,
   "id": "5b90b694",
   "metadata": {},
   "outputs": [],
   "source": []
  },
  {
   "cell_type": "code",
   "execution_count": null,
   "id": "6b34cf3f",
   "metadata": {},
   "outputs": [],
   "source": []
  }
 ],
 "metadata": {
  "kernelspec": {
   "display_name": "Python 3 (ipykernel)",
   "language": "python",
   "name": "python3"
  },
  "language_info": {
   "codemirror_mode": {
    "name": "ipython",
    "version": 3
   },
   "file_extension": ".py",
   "mimetype": "text/x-python",
   "name": "python",
   "nbconvert_exporter": "python",
   "pygments_lexer": "ipython3",
   "version": "3.9.7"
  }
 },
 "nbformat": 4,
 "nbformat_minor": 5
}
